{
 "cells": [
  {
   "cell_type": "code",
   "execution_count": 1,
   "metadata": {},
   "outputs": [],
   "source": [
    "import os\n",
    "import copy\n",
    "import json\n",
    "import logging\n",
    "\n",
    "if __name__ == \"__main__\":\n",
    "    f=open('./data/test/text.txt', encoding='utf-8')\n",
    "    line = f.readline().strip() #读取第一行\n",
    "    sentence1 =[]\n",
    "    sentence1.append(line)\n",
    "    while line:  # 直到读取完文件\n",
    "        line = f.readline().strip()  # 读取一行文件，包括换行符\n",
    "        sentence1.append(line)\n",
    "    f.close()  # 关闭文件\n",
    "        \n",
    "    \n",
    "    f=open('./data/test/ymy.txt', encoding='utf-8')\n",
    "    line = f.readline().strip() #读取第一行\n",
    "    ymys1 =[]\n",
    "    ymys1.append(line)\n",
    "    while line:  # 直到读取完文件\n",
    "        line = f.readline().strip()  # 读取一行文件，包括换行符\n",
    "        ymys1.append(line)\n",
    "    f.close()  # 关闭文件\n",
    "    \n",
    "    f=open('./data/train/text.txt', encoding='utf-8')\n",
    "    line = f.readline().strip() #读取第一行\n",
    "    sentence =[]\n",
    "    sentence.append(line)\n",
    "    while line:  # 直到读取完文件\n",
    "        line = f.readline().strip()  # 读取一行文件，包括换行符\n",
    "        sentence.append(line)\n",
    "    f.close()  # 关闭文件\n",
    "        \n",
    "    \n",
    "    f=open('./data/train/ymy.txt', encoding='utf-8')\n",
    "    line = f.readline().strip() #读取第一行\n",
    "    ymys =[]\n",
    "    ymys.append(line)\n",
    "    while line:  # 直到读取完文件\n",
    "        line = f.readline().strip()  # 读取一行文件，包括换行符\n",
    "        ymys.append(line)\n",
    "    f.close()  # 关闭文件"
   ]
  },
  {
   "cell_type": "code",
   "execution_count": 2,
   "metadata": {},
   "outputs": [],
   "source": [
    "valid_data = []\n",
    "for i in range(len(sentence1)):\n",
    "#     if '0' not in ymys1[i] and '1' not in ymys1[i] and '2' not in ymys1[i]:\n",
    "#         test_data.append([0,sentence1[i]])\n",
    "    if '0' in ymys1[i]:\n",
    "        valid_data.append([0,sentence1[i].replace(' ','')])\n",
    "    elif '1' in ymys1[i]:\n",
    "        valid_data.append([1,sentence1[i].replace(' ','')])\n",
    "    elif '2' in ymys1[i]:\n",
    "        valid_data.append([2,sentence1[i].replace(' ','')])\n",
    "        \n",
    "train_data = []\n",
    "for i in range(len(sentence1)):\n",
    "#     if '0' not in ymys1[i] and '1' not in ymys1[i] and '2' not in ymys1[i]:\n",
    "#         test_data.append([0,sentence1[i]])\n",
    "    if '0' in ymys[i]:\n",
    "        train_data.append([0,sentence[i].replace(' ','')])\n",
    "    elif '1' in ymys[i]:\n",
    "        train_data.append([1,sentence[i].replace(' ','')])\n",
    "    elif '2' in ymys[i]:\n",
    "        train_data.append([2,sentence[i].replace(' ','')])"
   ]
  },
  {
   "cell_type": "code",
   "execution_count": 5,
   "metadata": {},
   "outputs": [],
   "source": [
    "filename = './text_data/train.txt'\n",
    "with open(filename,'w',encoding='utf-8') as f:\n",
    "    for i in range(len(train_data)):\n",
    "        f.write(train_data[i][1]+ '\\t'+ str(train_data[i][0]) +'\\n')\n",
    "\n",
    "                \n",
    "filename = './text_data/test.txt'\n",
    "with open(filename,'w',encoding='utf-8') as f:\n",
    "    for i in range(len(valid_data)):\n",
    "        f.write(valid_data[i][1]+ '\\t'+ str(valid_data[i][0]) +'\\n')\n"
   ]
  },
  {
   "cell_type": "code",
   "execution_count": 7,
   "metadata": {},
   "outputs": [],
   "source": [
    "from transformers import AutoTokenizer, AutoModel\n",
    "\n",
    "tokenizer = AutoTokenizer.from_pretrained(\"bert-base-chinese\")\n",
    "\n",
    "sents = [\n",
    "    '选择珠江花园的原因就是方便。',\n",
    "    '笔记本的键盘确实爽。',\n",
    "    '房间太小。其他的都一般。',\n",
    "    '今天才知道这书还有第6卷,真有点郁闷.',\n",
    "    '机器背面似乎被撕了张什么标签，残胶还在。',\n",
    "]"
   ]
  },
  {
   "cell_type": "code",
   "execution_count": 8,
   "metadata": {},
   "outputs": [],
   "source": [
    "out = tokenizer.batch_encode_plus(\n",
    "    batch_text_or_text_pairs=[sents[0], sents[1]],\n",
    "    \n",
    "    # 添加特殊符号\n",
    "    add_special_tokens=True,\n",
    "\n",
    "    # 当句子长度大于max_length时,截断\n",
    "    truncation=True,\n",
    "\n",
    "    # 一律补零到max_length长度\n",
    "    padding='max_length',\n",
    "    max_length=15,\n",
    "\n",
    "    # 可取值tf,pt,np,默认为返回list\n",
    "    return_tensors=None,\n",
    "\n",
    "    # 返回token_type_ids句子分段标识\n",
    "    return_token_type_ids=True,\n",
    "\n",
    "    # 返回attention_mask [PAD]补全标识\n",
    "    return_attention_mask=True,\n",
    "\n",
    "    # 返回special_tokens_mask 特殊符号标识\n",
    "    return_special_tokens_mask=True,\n",
    "\n",
    "    # 返回length 标识长度\n",
    "    return_length=True,\n",
    ")"
   ]
  },
  {
   "cell_type": "code",
   "execution_count": 9,
   "metadata": {},
   "outputs": [
    {
     "name": "stdout",
     "output_type": "stream",
     "text": [
      "input_ids : [[101, 6848, 2885, 4403, 3736, 5709, 1736, 4638, 1333, 1728, 2218, 3221, 3175, 912, 102], [101, 5011, 6381, 3315, 4638, 7241, 4669, 4802, 2141, 4272, 511, 102, 0, 0, 0]]\n",
      "token_type_ids : [[0, 0, 0, 0, 0, 0, 0, 0, 0, 0, 0, 0, 0, 0, 0], [0, 0, 0, 0, 0, 0, 0, 0, 0, 0, 0, 0, 0, 0, 0]]\n",
      "attention_mask : [[1, 1, 1, 1, 1, 1, 1, 1, 1, 1, 1, 1, 1, 1, 1], [1, 1, 1, 1, 1, 1, 1, 1, 1, 1, 1, 1, 0, 0, 0]]\n",
      "special_tokens_mask : [[1, 0, 0, 0, 0, 0, 0, 0, 0, 0, 0, 0, 0, 0, 1], [1, 0, 0, 0, 0, 0, 0, 0, 0, 0, 0, 1, 1, 1, 1]]\n",
      "length : [15, 15]\n"
     ]
    }
   ],
   "source": [
    "for k, v in out.items():\n",
    "    print(k, ':', v)"
   ]
  },
  {
   "cell_type": "code",
   "execution_count": 46,
   "metadata": {},
   "outputs": [
    {
     "name": "stderr",
     "output_type": "stream",
     "text": [
      "Some weights of the model checkpoint at bert-base-chinese were not used when initializing BertModel: ['cls.seq_relationship.bias', 'cls.predictions.transform.dense.bias', 'cls.predictions.transform.dense.weight', 'cls.seq_relationship.weight', 'cls.predictions.transform.LayerNorm.weight', 'cls.predictions.transform.LayerNorm.bias', 'cls.predictions.decoder.weight', 'cls.predictions.bias']\n",
      "- This IS expected if you are initializing BertModel from the checkpoint of a model trained on another task or with another architecture (e.g. initializing a BertForSequenceClassification model from a BertForPreTraining model).\n",
      "- This IS NOT expected if you are initializing BertModel from the checkpoint of a model that you expect to be exactly identical (initializing a BertForSequenceClassification model from a BertForSequenceClassification model).\n"
     ]
    }
   ],
   "source": [
    "from transformers import AutoModel\n",
    "import matplotlib.pyplot as plt\n",
    "import torch\n",
    "from datasets import load_dataset\n",
    "import torch.nn.functional as F\n",
    "\n",
    "pretrained = AutoModel.from_pretrained('bert-base-chinese')"
   ]
  },
  {
   "cell_type": "code",
   "execution_count": 16,
   "metadata": {},
   "outputs": [],
   "source": [
    "def count_text_len():\n",
    "    text_len = []\n",
    "    with open('./text_data/train.txt', encoding='utf-8') as f:\n",
    "        for line in f.readlines():\n",
    "            text, _ = line.split('\\t')\n",
    "            text_len.append(len(text))\n",
    "    plt.hist(text_len)\n",
    "    plt.show()\n",
    "    print(max(text_len))"
   ]
  },
  {
   "cell_type": "code",
   "execution_count": 17,
   "metadata": {},
   "outputs": [
    {
     "data": {
      "image/png": "[encoded data removed]",
      "text/plain": [
       "<Figure size 432x288 with 1 Axes>"
      ]
     },
     "metadata": {
      "needs_background": "light"
     },
     "output_type": "display_data"
    },
    {
     "name": "stdout",
     "output_type": "stream",
     "text": [
      "202\n"
     ]
    }
   ],
   "source": [
    "count_text_len()"
   ]
  },
  {
   "cell_type": "code",
   "execution_count": 48,
   "metadata": {},
   "outputs": [],
   "source": [
    "# BERT 分词器\n",
    "tokenizer = AutoTokenizer.from_pretrained(\"bert-base-chinese\")\n",
    "\n",
    "# 模型保存位置\n",
    "MODEL_DIR = './text_data/models/'\n",
    "\n",
    "# 类别标签位置\n",
    "LABEL_PATH = './data/input/class.txt'\n",
    "\n",
    "# max_length\n",
    "TEXT_LEN = 210\n",
    "\n",
    "# TextCNN 模型参数\n",
    "EMBEDDING_DIM = 768\n",
    "NUM_FILTERS = 256\n",
    "NUM_CLASSES = 10\n",
    "\n",
    "# 训练参数\n",
    "EPOCH = 1\n",
    "LR = 2e-5"
   ]
  },
  {
   "cell_type": "code",
   "execution_count": 44,
   "metadata": {},
   "outputs": [],
   "source": [
    "class Dataset(torch.utils.data.Dataset):\n",
    "    def __init__(self, split='train'):\n",
    "        super(Dataset, self).__init__()\n",
    "        path = \"./text_data/\" + str(split) + \".txt\"\n",
    "        self.lines = open(path, encoding='utf-8').readlines()\n",
    "\n",
    "    def __len__(self):\n",
    "        return len(self.lines)\n",
    "\n",
    "    def __getitem__(self, i):\n",
    "        text, label = self.lines[i].strip().split('\\t')\n",
    "        return text, int(label)\n",
    "def collate_fn(data):\n",
    "    sents = [i[0] for i in data]\n",
    "    labels = [i[1] for i in data]\n",
    "\n",
    "    data = tokenizer.batch_encode_plus(\n",
    "        sents,\n",
    "        add_special_tokens=True,\n",
    "        truncation=True,\n",
    "        padding=\"max_length\",\n",
    "        max_length=TEXT_LEN,\n",
    "        return_tensors=\"pt\",\n",
    "        return_token_type_ids=True,\n",
    "        return_attention_mask=True\n",
    "    )\n",
    "\n",
    "    input_ids = data[\"input_ids\"]\n",
    "    attention_mask = data[\"attention_mask\"]\n",
    "    # token_type_ids = data[\"token_type_ids\"]  # 只有一个句子，不需要传这个参数\n",
    "    labels = torch.LongTensor(labels)\n",
    "    return input_ids, attention_mask, labels\n",
    "\n",
    "def get_label():\n",
    "    text = open(LABEL_PATH).read()\n",
    "    id2label = text.split()\n",
    "    return id2label, {v: k for k, v in enumerate(id2label)}"
   ]
  },
  {
   "cell_type": "code",
   "execution_count": 40,
   "metadata": {},
   "outputs": [],
   "source": [
    "class TextCNN(torch.nn.Module):\n",
    "    def __init__(self):\n",
    "        super(TextCNN, self).__init__()\n",
    "        self.bert = AutoModel.from_pretrained(\"bert-base-chinese\")\n",
    "        for param in self.bert.parameters():\n",
    "            param.requires_grad_(False)\n",
    "\n",
    "        self.conv1 = torch.nn.Conv2d(1, NUM_FILTERS, (2, EMBEDDING_DIM))\n",
    "        self.conv2 = torch.nn.Conv2d(1, NUM_FILTERS, (3, EMBEDDING_DIM))\n",
    "        self.conv3 = torch.nn.Conv2d(1, NUM_FILTERS, (4, EMBEDDING_DIM))\n",
    "        self.linear = torch.nn.Linear(NUM_FILTERS * 3, NUM_CLASSES)\n",
    "\n",
    "    def conv_and_pool(self, conv, input):\n",
    "        out = conv(input)\n",
    "        out = F.relu(out)\n",
    "        return F.max_pool2d(out, (out.shape[2], out.shape[3])).squeeze()\n",
    "\n",
    "    def forward(self, input_ids, attention_mask):\n",
    "        out = self.bert(input_ids=input_ids, attention_mask=attention_mask)[0].unsqueeze(1)\n",
    "        out1 = self.conv_and_pool(self.conv1, out)\n",
    "        out2 = self.conv_and_pool(self.conv2, out)\n",
    "        out3 = self.conv_and_pool(self.conv3, out)\n",
    "        out = torch.cat([out1, out2, out3], dim=1)\n",
    "        return self.linear(out).softmax(dim=1)"
   ]
  },
  {
   "cell_type": "code",
   "execution_count": 50,
   "metadata": {},
   "outputs": [],
   "source": [
    "def train():\n",
    "    train_dataset = Dataset('train')\n",
    "    train_loader = torch.utils.data.DataLoader(train_dataset, batch_size=32, collate_fn=collate_fn, shuffle=True)\n",
    "\n",
    "    dev_dataset = Dataset('test')\n",
    "    dev_loader = torch.utils.data.DataLoader(dev_dataset, batch_size=32, collate_fn=collate_fn, shuffle=True)\n",
    "\n",
    "    model = TextCNN()\n",
    "    optimizer = torch.optim.Adam(model.parameters(), lr=LR)\n",
    "    loss_fn = torch.nn.CrossEntropyLoss()\n",
    "    \n",
    "    dev_acc_list = []\n",
    "\n",
    "    model.train()\n",
    "    for e in range(EPOCH):\n",
    "        for i, (input_ids, attention_mask, labels) in enumerate(train_loader):\n",
    "            out = model(input_ids, attention_mask)\n",
    "            loss = loss_fn(out, labels)\n",
    "            loss.backward()\n",
    "            optimizer.step()\n",
    "            optimizer.zero_grad()\n",
    "\n",
    "            if i % 5 == 0:\n",
    "                out = out.argmax(dim=1)\n",
    "                acc = (out == labels).sum().item() / len(labels)\n",
    "\n",
    "                with torch.no_grad():\n",
    "                    input_ids_, attention_mask_, labels_ = iter(dev_loader).__next__()\n",
    "                    out_ = model(input_ids_, attention_mask_)\n",
    "                    out_ = out_.argmax(dim=1)\n",
    "                    dev_acc = (out_ == labels_).sum().item() / len(labels_)\n",
    "                if dev_acc_list != [] and dev_acc >= max(dev_acc_list):\n",
    "                    torch.save(model, MODEL_DIR + f'{e}.pth')\n",
    "                    print('save model success')\n",
    "                dev_acc_list.append(dev_acc)\n",
    "\n",
    "                print(\n",
    "                    ' epoch: ', e,\n",
    "                    ' batch: ', i,\n",
    "                    ' loss: ', round(loss.item(), 2),\n",
    "                    ' train_acc: ', acc,\n",
    "                    ' dev_acc: ', dev_acc,\n",
    "                )\n",
    "\n",
    "                "
   ]
  },
  {
   "cell_type": "code",
   "execution_count": 53,
   "metadata": {},
   "outputs": [],
   "source": [
    "def test():\n",
    "    test_dataset = Dataset('test')\n",
    "    test_loader = torch.utils.data.DataLoader(test_dataset, collate_fn=collate_fn, batch_size=64, shuffle=False)\n",
    "\n",
    "    model = torch.load(MODEL_DIR + '0.pth')\n",
    "    loss_fn = torch.nn.CrossEntropyLoss()\n",
    "\n",
    "    total = 0\n",
    "    correct = 0\n",
    "\n",
    "    model.eval()\n",
    "    with torch.no_grad():\n",
    "        for i, (input_ids, attention_mask, labels) in enumerate(test_loader):\n",
    "            out = model(input_ids, attention_mask)\n",
    "            loss = loss_fn(out, labels)\n",
    "\n",
    "            out = out.argmax(dim=1)\n",
    "            correct += (out == labels).sum().item()\n",
    "            total += len(labels)\n",
    "\n",
    "            print(' batch: ', i, ' loss ', loss.item())\n",
    "\n",
    "    acc = correct / total\n",
    "    print(' acc: ', round(acc, 2))"
   ]
  },
  {
   "cell_type": "code",
   "execution_count": 51,
   "metadata": {},
   "outputs": [
    {
     "name": "stderr",
     "output_type": "stream",
     "text": [
      "Some weights of the model checkpoint at bert-base-chinese were not used when initializing BertModel: ['cls.seq_relationship.bias', 'cls.predictions.transform.dense.bias', 'cls.predictions.transform.dense.weight', 'cls.seq_relationship.weight', 'cls.predictions.transform.LayerNorm.weight', 'cls.predictions.transform.LayerNorm.bias', 'cls.predictions.decoder.weight', 'cls.predictions.bias']\n",
      "- This IS expected if you are initializing BertModel from the checkpoint of a model trained on another task or with another architecture (e.g. initializing a BertForSequenceClassification model from a BertForPreTraining model).\n",
      "- This IS NOT expected if you are initializing BertModel from the checkpoint of a model that you expect to be exactly identical (initializing a BertForSequenceClassification model from a BertForSequenceClassification model).\n"
     ]
    },
    {
     "name": "stdout",
     "output_type": "stream",
     "text": [
      " epoch:  0  batch:  0  loss:  2.3  train_acc:  0.0  dev_acc:  0.0\n",
      " epoch:  0  batch:  5  loss:  2.21  train_acc:  0.5625  dev_acc:  0.65625\n",
      " epoch:  0  batch:  10  loss:  2.14  train_acc:  0.59375  dev_acc:  0.59375\n",
      " epoch:  0  batch:  15  loss:  2.01  train_acc:  0.65625  dev_acc:  0.625\n",
      " epoch:  0  batch:  20  loss:  2.03  train_acc:  0.5  dev_acc:  0.65625\n",
      " epoch:  0  batch:  25  loss:  1.95  train_acc:  0.5625  dev_acc:  0.5625\n",
      " epoch:  0  batch:  30  loss:  1.9  train_acc:  0.59375  dev_acc:  0.8125\n",
      " epoch:  0  batch:  35  loss:  1.86  train_acc:  0.625  dev_acc:  0.71875\n",
      " epoch:  0  batch:  40  loss:  1.85  train_acc:  0.625  dev_acc:  0.6875\n",
      " epoch:  0  batch:  45  loss:  1.73  train_acc:  0.75  dev_acc:  0.78125\n",
      " epoch:  0  batch:  50  loss:  1.69  train_acc:  0.78125  dev_acc:  0.625\n",
      " epoch:  0  batch:  55  loss:  1.75  train_acc:  0.71875  dev_acc:  0.78125\n",
      " epoch:  0  batch:  60  loss:  1.78  train_acc:  0.6875  dev_acc:  0.65625\n",
      " epoch:  0  batch:  65  loss:  1.68  train_acc:  0.78125  dev_acc:  0.65625\n"
     ]
    }
   ],
   "source": [
    "train()"
   ]
  },
  {
   "cell_type": "code",
   "execution_count": 54,
   "metadata": {},
   "outputs": [
    {
     "name": "stdout",
     "output_type": "stream",
     "text": [
      " batch:  0  loss  1.8751140832901\n",
      " batch:  1  loss  1.8140372037887573\n",
      " batch:  2  loss  1.9177448749542236\n",
      " batch:  3  loss  1.950440764427185\n",
      " batch:  4  loss  1.844298243522644\n",
      " batch:  5  loss  1.890299916267395\n",
      " batch:  6  loss  1.7748558521270752\n",
      " batch:  7  loss  1.9101195335388184\n",
      " batch:  8  loss  1.9189207553863525\n",
      " batch:  9  loss  1.8886750936508179\n",
      " batch:  10  loss  1.8255690336227417\n",
      " batch:  11  loss  1.8009395599365234\n",
      " batch:  12  loss  1.8154155015945435\n",
      " batch:  13  loss  1.7090814113616943\n",
      " batch:  14  loss  1.7670254707336426\n",
      " batch:  15  loss  1.9153435230255127\n",
      " batch:  16  loss  1.9195125102996826\n",
      " batch:  17  loss  1.7774369716644287\n",
      " batch:  18  loss  1.8560340404510498\n",
      " batch:  19  loss  1.80027174949646\n",
      " batch:  20  loss  1.9347952604293823\n",
      " batch:  21  loss  1.7571898698806763\n",
      " batch:  22  loss  1.8328220844268799\n",
      " batch:  23  loss  1.800118088722229\n",
      " batch:  24  loss  1.8864378929138184\n",
      " batch:  25  loss  1.8599448204040527\n",
      " batch:  26  loss  1.6992714405059814\n",
      " batch:  27  loss  1.7453598976135254\n",
      " batch:  28  loss  1.7755228281021118\n",
      " batch:  29  loss  1.7743511199951172\n",
      " batch:  30  loss  1.916536808013916\n",
      " batch:  31  loss  1.7866528034210205\n",
      " batch:  32  loss  1.8120317459106445\n",
      " acc:  0.65\n"
     ]
    }
   ],
   "source": [
    "test()"
   ]
  },
  {
   "cell_type": "code",
   "execution_count": null,
   "metadata": {},
   "outputs": [],
   "source": []
  }
 ],
 "metadata": {
  "kernelspec": {
   "display_name": "Python 3",
   "language": "python",
   "name": "python3"
  },
  "language_info": {
   "codemirror_mode": {
    "name": "ipython",
    "version": 3
   },
   "file_extension": ".py",
   "mimetype": "text/x-python",
   "name": "python",
   "nbconvert_exporter": "python",
   "pygments_lexer": "ipython3",
   "version": "3.7.4"
  }
 },
 "nbformat": 4,
 "nbformat_minor": 2
}
