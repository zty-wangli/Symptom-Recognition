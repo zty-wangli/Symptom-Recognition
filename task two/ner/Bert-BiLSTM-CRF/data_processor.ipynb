{
 "cells": [
  {
   "cell_type": "code",
   "execution_count": 3,
   "metadata": {},
   "outputs": [],
   "source": [
    "import os\n",
    "import copy\n",
    "import json\n",
    "import logging\n",
    "\n",
    "if __name__ == \"__main__\":\n",
    "    f=open('./data/test/text.txt', encoding='utf-8')\n",
    "    line = f.readline().strip() #读取第一行\n",
    "    sentence1 =[]\n",
    "    sentence1.append(line)\n",
    "    while line:  # 直到读取完文件\n",
    "        line = f.readline().strip()  # 读取一行文件，包括换行符\n",
    "        sentence1.append(line)\n",
    "    f.close()  # 关闭文件\n",
    "    \n",
    "    sentence = []\n",
    "    for i in sentence1:\n",
    "        d = sentence.extend(i.split())\n",
    "    \n",
    "    \n",
    "    f=open('./data/test/label.txt', encoding='utf-8')\n",
    "    line = f.readline().strip() #读取第一行\n",
    "    labels1 =[]\n",
    "    labels1.append(line)\n",
    "    while line:  # 直到读取完文件\n",
    "        line = f.readline().strip()  # 读取一行文件，包括换行符\n",
    "        labels1.append(line)\n",
    "    f.close()  # 关闭文件\n",
    "    \n",
    "    labels = []\n",
    "    for i in labels1:\n",
    "        d = labels.extend(i.split())\n",
    "    \n",
    "    \n",
    "    f=open('./data/test/ymy.txt', encoding='utf-8')\n",
    "    line = f.readline().strip() #读取第一行\n",
    "    ymys1 =[]\n",
    "    ymys1.append(line)\n",
    "    while line:  # 直到读取完文件\n",
    "        line = f.readline().strip()  # 读取一行文件，包括换行符\n",
    "        ymys1.append(line)\n",
    "    f.close()  # 关闭文件\n",
    "    \n",
    "    ymy = []\n",
    "    for i in ymys1:\n",
    "        d = ymy.extend(i.split())"
   ]
  },
  {
   "cell_type": "code",
   "execution_count": 4,
   "metadata": {},
   "outputs": [],
   "source": [
    "filename = './data_ner/test.txt'\n",
    "with open(filename,'w',encoding='utf-8') as f:\n",
    "    for i in range(len(sentence)):\n",
    "        if ymy[i]!='null':\n",
    "            f.write(sentence[i]+ ' '+ labels[i] +'\\n')\n",
    "        else:\n",
    "            if labels[i]!='O':\n",
    "                f.write(sentence[i]+ ' '+ 'O' +'\\n')\n",
    "            else:\n",
    "                f.write(sentence[i]+ ' '+ labels[i] +'\\n')\n",
    "\n",
    "                \n",
    "        if i < len(sentence)-3 and i>1:\n",
    "            if sentence[i+1]=='医' and sentence[i+2]=='生' and sentence[i+3]=='：':\n",
    "                f.write('\\n')\n",
    "                \n",
    "            if sentence[i+1]=='患' and sentence[i+2]=='者' and sentence[i+3]=='：':\n",
    "                f.write('\\n')"
   ]
  },
  {
   "cell_type": "code",
   "execution_count": null,
   "metadata": {},
   "outputs": [],
   "source": []
  }
 ],
 "metadata": {
  "kernelspec": {
   "display_name": "Python 3",
   "language": "python",
   "name": "python3"
  },
  "language_info": {
   "codemirror_mode": {
    "name": "ipython",
    "version": 3
   },
   "file_extension": ".py",
   "mimetype": "text/x-python",
   "name": "python",
   "nbconvert_exporter": "python",
   "pygments_lexer": "ipython3",
   "version": "3.7.4"
  }
 },
 "nbformat": 4,
 "nbformat_minor": 2
}
